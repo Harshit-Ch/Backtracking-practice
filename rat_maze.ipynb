{
 "cells": [
  {
   "cell_type": "code",
   "execution_count": 613,
   "id": "2dc074be",
   "metadata": {},
   "outputs": [],
   "source": [
    "import pandas as pd"
   ]
  },
  {
   "cell_type": "code",
   "execution_count": null,
   "id": "12d4e2b7",
   "metadata": {},
   "outputs": [],
   "source": [
    "class rat_maze:\n",
    "    def __init__(self, maze, start_position,  exit_position, verbose=True):\n",
    "        self.maze = maze\n",
    "        self.rat_positions = []\n",
    "        self.verbose = verbose\n",
    "        self.start_position = start_position\n",
    "        self.exit_position = exit_position\n",
    "        self.possible_movements = [(1, 0), (0, 1), (-1, 0), (0, -1)]\n",
    "        self.incorrect_squares = []\n",
    "\n",
    "        self.rat_positions.append(self.start_position)\n",
    "\n",
    "    def safe_movements(self, x, y):\n",
    "        safe_squares = []\n",
    "        for position in self.possible_movements:\n",
    "            next_row = x + position[0]\n",
    "            next_col = y + position[1]\n",
    "            if next_row in range(len(self.maze)) and next_col in range(len(self.maze[0])):\n",
    "                if (self.maze[next_row][next_col] == 1) & ((next_row, next_col) not in self.rat_positions) & ((next_row, next_col) not in self.incorrect_squares):\n",
    "                    safe_squares.append((next_row, next_col))\n",
    "        return safe_squares\n",
    "\n",
    "    def backtrack(self):\n",
    "\n",
    "        if (self.rat_positions[-1] == self.exit_position):\n",
    "            print(\"rat has exited the maze\")\n",
    "            return True\n",
    "\n",
    "        else:\n",
    "            safe_squares = self.safe_movements(self.rat_positions[-1][0], self.rat_positions[-1][1])\n",
    "            for next_move in safe_squares:\n",
    "                self.rat_positions.append(next_move)\n",
    "                if self.verbose:\n",
    "                    print(f\"rat moved to position: {next_move}\")\n",
    "                if self.backtrack():\n",
    "                    return True\n",
    "\n",
    "                self.incorrect_squares.append(self.rat_positions[-1])\n",
    "                self.rat_positions.pop()\n",
    "        return False"
   ]
  },
  {
   "cell_type": "code",
   "execution_count": 635,
   "id": "4cfc4d91",
   "metadata": {},
   "outputs": [],
   "source": [
    "grid = [[1, 0, 1, 0, 1], [1, 1, 0, 0, 1], [0, 1, 1, 1, 0], [0, 0, 0, 1, 0], [1, 1, 1, 1, 1]]\n",
    "maze_input = rat_maze(grid,(0,0), (4,1))"
   ]
  },
  {
   "cell_type": "code",
   "execution_count": 636,
   "id": "a3a3f1da",
   "metadata": {},
   "outputs": [],
   "source": [
    "list = [1, 2, 3, 4]"
   ]
  },
  {
   "cell_type": "code",
   "execution_count": 637,
   "id": "472d4a01",
   "metadata": {},
   "outputs": [
    {
     "name": "stdout",
     "output_type": "stream",
     "text": [
      "rat moved to position: (1, 0)\n",
      "rat moved to position: (1, 1)\n",
      "rat moved to position: (2, 1)\n",
      "rat moved to position: (2, 2)\n",
      "rat moved to position: (2, 3)\n",
      "rat moved to position: (3, 3)\n",
      "rat moved to position: (4, 3)\n",
      "rat moved to position: (4, 4)\n",
      "rat moved to position: (4, 2)\n",
      "rat moved to position: (4, 1)\n",
      "rat has exited the maze\n"
     ]
    },
    {
     "data": {
      "text/plain": [
       "True"
      ]
     },
     "execution_count": 637,
     "metadata": {},
     "output_type": "execute_result"
    }
   ],
   "source": [
    "maze_input.backtrack()"
   ]
  },
  {
   "cell_type": "code",
   "execution_count": 641,
   "id": "65d55c99",
   "metadata": {},
   "outputs": [],
   "source": [
    "### Problem from GPT\n",
    "\n",
    "grid = [\n",
    "    [1, 0, 1, 1, 0, 1, 1],\n",
    "    [1, 1, 1, 0, 1, 0, 1],\n",
    "    [0, 0, 1, 1, 1, 1, 0],\n",
    "    [1, 1, 0, 0, 0, 1, 1],\n",
    "    [0, 1, 1, 1, 0, 1, 1],\n",
    "    [1, 0, 0, 1, 1, 1, 1],\n",
    "    [1, 1, 1, 1, 0, 0, 1]\n",
    "]\n",
    "\n",
    "maze_input = rat_maze(grid, (0,0), (6,0))\n"
   ]
  },
  {
   "cell_type": "code",
   "execution_count": 642,
   "id": "a0f8fc24",
   "metadata": {},
   "outputs": [
    {
     "name": "stdout",
     "output_type": "stream",
     "text": [
      "rat moved to position: (1, 0)\n",
      "rat moved to position: (1, 1)\n",
      "rat moved to position: (1, 2)\n",
      "rat moved to position: (2, 2)\n",
      "rat moved to position: (2, 3)\n",
      "rat moved to position: (2, 4)\n",
      "rat moved to position: (2, 5)\n",
      "rat moved to position: (3, 5)\n",
      "rat moved to position: (4, 5)\n",
      "rat moved to position: (5, 5)\n",
      "rat moved to position: (5, 6)\n",
      "rat moved to position: (6, 6)\n",
      "rat moved to position: (4, 6)\n",
      "rat moved to position: (3, 6)\n",
      "rat moved to position: (5, 4)\n",
      "rat moved to position: (5, 3)\n",
      "rat moved to position: (6, 3)\n",
      "rat moved to position: (6, 2)\n",
      "rat moved to position: (6, 1)\n",
      "rat moved to position: (6, 0)\n",
      "rat has exited the maze\n"
     ]
    },
    {
     "data": {
      "text/plain": [
       "True"
      ]
     },
     "execution_count": 642,
     "metadata": {},
     "output_type": "execute_result"
    }
   ],
   "source": [
    "maze_input.backtrack()"
   ]
  },
  {
   "cell_type": "code",
   "execution_count": 643,
   "id": "9c7381b8",
   "metadata": {},
   "outputs": [
    {
     "data": {
      "text/plain": [
       "[(6, 6), (3, 6), (4, 6), (5, 6)]"
      ]
     },
     "execution_count": 643,
     "metadata": {},
     "output_type": "execute_result"
    }
   ],
   "source": [
    "maze_input.incorrect_squares"
   ]
  },
  {
   "cell_type": "code",
   "execution_count": null,
   "id": "edac4727",
   "metadata": {},
   "outputs": [],
   "source": []
  }
 ],
 "metadata": {
  "kernelspec": {
   "display_name": "base",
   "language": "python",
   "name": "python3"
  },
  "language_info": {
   "codemirror_mode": {
    "name": "ipython",
    "version": 3
   },
   "file_extension": ".py",
   "mimetype": "text/x-python",
   "name": "python",
   "nbconvert_exporter": "python",
   "pygments_lexer": "ipython3",
   "version": "3.12.2"
  }
 },
 "nbformat": 4,
 "nbformat_minor": 5
}
