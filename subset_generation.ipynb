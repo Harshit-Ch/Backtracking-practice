{
 "cells": [
  {
   "cell_type": "code",
   "execution_count": 103,
   "id": "7b3077be",
   "metadata": {},
   "outputs": [],
   "source": [
    "def backtrack_subset(nums):\n",
    "    results = []\n",
    "    print(results)\n",
    "\n",
    "    def backtrack(start, path):\n",
    "        # Save the current subset\n",
    "        results.append(path[:])\n",
    "\n",
    "        # Try including further elements\n",
    "        for i in range(start, len(nums)):\n",
    "            path.append(nums[i])          # include nums[i]\n",
    "            backtrack(i + 1, path)       # recurse with next index\n",
    "            path.pop()                   # backtrack (remove last element)\n",
    "\n",
    "    backtrack(0, [])\n",
    "    return results"
   ]
  },
  {
   "cell_type": "code",
   "execution_count": 104,
   "id": "8849cb48",
   "metadata": {},
   "outputs": [
    {
     "name": "stdout",
     "output_type": "stream",
     "text": [
      "[]\n"
     ]
    },
    {
     "data": {
      "text/plain": [
       "[[],\n",
       " [1],\n",
       " [1, 2],\n",
       " [1, 2, 3],\n",
       " [1, 2, 3, 4],\n",
       " [1, 2, 4],\n",
       " [1, 3],\n",
       " [1, 3, 4],\n",
       " [1, 4],\n",
       " [2],\n",
       " [2, 3],\n",
       " [2, 3, 4],\n",
       " [2, 4],\n",
       " [3],\n",
       " [3, 4],\n",
       " [4]]"
      ]
     },
     "execution_count": 104,
     "metadata": {},
     "output_type": "execute_result"
    }
   ],
   "source": [
    "list_set = [1, 2, 3, 4]\n",
    "backtrack_subset(list_set)"
   ]
  },
  {
   "cell_type": "code",
   "execution_count": 99,
   "id": "d3cbd06d",
   "metadata": {},
   "outputs": [],
   "source": [
    "def backtrack_rearrange(word):\n",
    "    results = []\n",
    "\n",
    "    def backtrack(string, remaining_strings):\n",
    "        if not remaining_strings:\n",
    "            results.append(string)\n",
    "            return\n",
    "\n",
    "        for i in remaining_strings:\n",
    "            new_string = string + i\n",
    "            backtrack(new_string, remaining_strings.replace(i, '', 1)) \n",
    "\n",
    "    backtrack(\"\", word)\n",
    "\n",
    "    return results"
   ]
  },
  {
   "cell_type": "code",
   "execution_count": 100,
   "id": "ed576470",
   "metadata": {},
   "outputs": [
    {
     "data": {
      "text/plain": [
       "['word',\n",
       " 'wodr',\n",
       " 'wrod',\n",
       " 'wrdo',\n",
       " 'wdor',\n",
       " 'wdro',\n",
       " 'owrd',\n",
       " 'owdr',\n",
       " 'orwd',\n",
       " 'ordw',\n",
       " 'odwr',\n",
       " 'odrw',\n",
       " 'rwod',\n",
       " 'rwdo',\n",
       " 'rowd',\n",
       " 'rodw',\n",
       " 'rdwo',\n",
       " 'rdow',\n",
       " 'dwor',\n",
       " 'dwro',\n",
       " 'dowr',\n",
       " 'dorw',\n",
       " 'drwo',\n",
       " 'drow']"
      ]
     },
     "execution_count": 100,
     "metadata": {},
     "output_type": "execute_result"
    }
   ],
   "source": [
    "backtrack_rearrange('word')"
   ]
  },
  {
   "cell_type": "code",
   "execution_count": 101,
   "id": "d845e440",
   "metadata": {},
   "outputs": [
    {
     "data": {
      "text/plain": [
       "['abc', 'acb', 'bac', 'bca', 'cab', 'cba']"
      ]
     },
     "execution_count": 101,
     "metadata": {},
     "output_type": "execute_result"
    }
   ],
   "source": [
    "backtrack_rearrange('abc')"
   ]
  },
  {
   "cell_type": "code",
   "execution_count": 102,
   "id": "f5ced681",
   "metadata": {},
   "outputs": [
    {
     "data": {
      "text/plain": [
       "['aba', 'aab', 'baa', 'baa', 'aba', 'aab']"
      ]
     },
     "execution_count": 102,
     "metadata": {},
     "output_type": "execute_result"
    }
   ],
   "source": [
    "backtrack_rearrange('aba')"
   ]
  },
  {
   "cell_type": "code",
   "execution_count": null,
   "id": "d4744dee",
   "metadata": {},
   "outputs": [],
   "source": []
  },
  {
   "cell_type": "code",
   "execution_count": null,
   "id": "9d3720db",
   "metadata": {},
   "outputs": [],
   "source": []
  }
 ],
 "metadata": {
  "kernelspec": {
   "display_name": "base",
   "language": "python",
   "name": "python3"
  },
  "language_info": {
   "codemirror_mode": {
    "name": "ipython",
    "version": 3
   },
   "file_extension": ".py",
   "mimetype": "text/x-python",
   "name": "python",
   "nbconvert_exporter": "python",
   "pygments_lexer": "ipython3",
   "version": "3.12.2"
  }
 },
 "nbformat": 4,
 "nbformat_minor": 5
}
